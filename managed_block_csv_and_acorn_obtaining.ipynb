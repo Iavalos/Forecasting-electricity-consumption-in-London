{
 "cells": [
  {
   "cell_type": "code",
   "execution_count": 1,
   "metadata": {},
   "outputs": [],
   "source": [
    "import pandas as pd\n",
    "import os"
   ]
  },
  {
   "cell_type": "code",
   "execution_count": 2,
   "metadata": {},
   "outputs": [],
   "source": [
    "folder = os.path.join('halfhourly_dataset')"
   ]
  },
  {
   "cell_type": "markdown",
   "metadata": {},
   "source": [
    "The next files have one column of time 'tstp' and the other columns are the blocks. Each block represent a group of households."
   ]
  },
  {
   "cell_type": "code",
   "execution_count": 22,
   "metadata": {},
   "outputs": [],
   "source": [
    "sum_df = pd.read_csv(os.path.join(folder, 'sum_resume.csv'))\n",
    "max_df = pd.read_csv(os.path.join(folder, 'max_resume.csv'))\n",
    "min_df = pd.read_csv(os.path.join(folder, 'min_resume.csv'))\n",
    "mean_df = pd.read_csv(os.path.join(folder, 'mean_resume.csv'))"
   ]
  },
  {
   "cell_type": "code",
   "execution_count": 23,
   "metadata": {},
   "outputs": [
    {
     "data": {
      "text/plain": [
       "Index(['tstp', 'block_0', 'block_1', 'block_10', 'block_100', 'block_101',\n",
       "       'block_102', 'block_103', 'block_104', 'block_105',\n",
       "       ...\n",
       "       'block_90', 'block_91', 'block_92', 'block_93', 'block_94', 'block_95',\n",
       "       'block_96', 'block_97', 'block_98', 'block_99'],\n",
       "      dtype='object', length=113)"
      ]
     },
     "execution_count": 23,
     "metadata": {},
     "output_type": "execute_result"
    }
   ],
   "source": [
    "min_df.columns # lets analyse just the file with the means"
   ]
  },
  {
   "cell_type": "code",
   "execution_count": 24,
   "metadata": {},
   "outputs": [
    {
     "data": {
      "text/plain": [
       "39292"
      ]
     },
     "execution_count": 24,
     "metadata": {},
     "output_type": "execute_result"
    }
   ],
   "source": [
    "min_df['tstp'].count() # maximum number of rows (dates)"
   ]
  },
  {
   "cell_type": "code",
   "execution_count": 25,
   "metadata": {},
   "outputs": [
    {
     "data": {
      "text/plain": [
       "('2011-12-03 09:00:00', '2014-02-28 00:00:00')"
      ]
     },
     "execution_count": 25,
     "metadata": {},
     "output_type": "execute_result"
    }
   ],
   "source": [
    "min_df['tstp'].min(), min_df['tstp'].max() # initial and final date"
   ]
  },
  {
   "cell_type": "code",
   "execution_count": 26,
   "metadata": {},
   "outputs": [
    {
     "data": {
      "text/plain": [
       "<matplotlib.axes._subplots.AxesSubplot at 0x233084ab7b8>"
      ]
     },
     "execution_count": 26,
     "metadata": {},
     "output_type": "execute_result"
    },
    {
     "data": {
      "image/png": "[encoded data removed]",
      "text/plain": [
       "<Figure size 432x288 with 1 Axes>"
      ]
     },
     "metadata": {
      "needs_background": "light"
     },
     "output_type": "display_data"
    }
   ],
   "source": [
    "min_df.count().hist() # it shows the number of points by block"
   ]
  },
  {
   "cell_type": "code",
   "execution_count": 42,
   "metadata": {},
   "outputs": [
    {
     "data": {
      "text/plain": [
       "<matplotlib.axes._subplots.AxesSubplot at 0x233008159b0>"
      ]
     },
     "execution_count": 42,
     "metadata": {},
     "output_type": "execute_result"
    },
    {
     "data": {
      "image/png": "[encoded data removed]",
      "text/plain": [
       "<Figure size 432x288 with 1 Axes>"
      ]
     },
     "metadata": {
      "needs_background": "light"
     },
     "output_type": "display_data"
    }
   ],
   "source": [
    "min_df.isna().sum(axis=1).plot() # shows the amount of null values in time"
   ]
  },
  {
   "cell_type": "code",
   "execution_count": 58,
   "metadata": {},
   "outputs": [
    {
     "data": {
      "text/plain": [
       "<matplotlib.axes._subplots.AxesSubplot at 0x23300e43518>"
      ]
     },
     "execution_count": 58,
     "metadata": {},
     "output_type": "execute_result"
    },
    {
     "data": {
      "image/png": "[encoded data removed]",
      "text/plain": [
       "<Figure size 432x288 with 1 Axes>"
      ]
     },
     "metadata": {
      "needs_background": "light"
     },
     "output_type": "display_data"
    }
   ],
   "source": [
    "min_df.loc[(min_df['tstp'] >= '2012-12-18 15:00:00') & (min_df['tstp'] <= '2012-12-18 15:30:00'),:].isna().sum(axis=1).plot()"
   ]
  },
  {
   "cell_type": "code",
   "execution_count": 60,
   "metadata": {},
   "outputs": [
    {
     "data": {
      "text/plain": [
       "18301    2012-12-18 15:13:37\n",
       "18302    2012-12-18 15:15:25\n",
       "18303    2012-12-18 15:15:30\n",
       "18304    2012-12-18 15:15:38\n",
       "18305    2012-12-18 15:16:28\n",
       "18306    2012-12-18 15:18:11\n",
       "18307    2012-12-18 15:19:39\n",
       "18308    2012-12-18 15:20:02\n",
       "18309    2012-12-18 15:20:11\n",
       "18310    2012-12-18 15:22:16\n",
       "18311    2012-12-18 15:23:00\n",
       "18312    2012-12-18 15:23:02\n",
       "18313    2012-12-18 15:23:03\n",
       "18314    2012-12-18 15:23:08\n",
       "18315    2012-12-18 15:23:11\n",
       "18316    2012-12-18 15:23:21\n",
       "18317    2012-12-18 15:23:22\n",
       "18318    2012-12-18 15:23:23\n",
       "18319    2012-12-18 15:23:26\n",
       "18320    2012-12-18 15:23:29\n",
       "18321    2012-12-18 15:23:31\n",
       "18322    2012-12-18 15:23:33\n",
       "18323    2012-12-18 15:23:42\n",
       "18324    2012-12-18 15:23:43\n",
       "18325    2012-12-18 15:23:44\n",
       "18326    2012-12-18 15:23:45\n",
       "18327    2012-12-18 15:23:47\n",
       "18328    2012-12-18 15:23:49\n",
       "18329    2012-12-18 15:23:53\n",
       "18330    2012-12-18 15:23:54\n",
       "18331    2012-12-18 15:23:55\n",
       "18332    2012-12-18 15:23:57\n",
       "18333    2012-12-18 15:24:01\n",
       "18334    2012-12-18 15:24:03\n",
       "18335    2012-12-18 15:24:04\n",
       "18336    2012-12-18 15:24:07\n",
       "18337    2012-12-18 15:24:11\n",
       "18338    2012-12-18 15:24:12\n",
       "18339    2012-12-18 15:24:13\n",
       "18340    2012-12-18 15:24:16\n",
       "18341    2012-12-18 15:24:17\n",
       "18342    2012-12-18 15:24:18\n",
       "18343    2012-12-18 15:24:20\n",
       "18344    2012-12-18 15:24:27\n",
       "Name: tstp, dtype: object"
      ]
     },
     "execution_count": 60,
     "metadata": {},
     "output_type": "execute_result"
    }
   ],
   "source": [
    "min_df.loc[(min_df['tstp'] > '2012-12-18 15:00:00') & (min_df['tstp'] < '2012-12-18 15:30:00'),'tstp']"
   ]
  },
  {
   "cell_type": "markdown",
   "metadata": {},
   "source": [
    "Between the 15:00 and 15:30 hrs of 2012.12.18 there are weird values in the time, given we want 30 minutes resolution, I will delete them."
   ]
  },
  {
   "cell_type": "code",
   "execution_count": 61,
   "metadata": {},
   "outputs": [],
   "source": [
    "indexes = min_df.loc[(min_df['tstp'] > '2012-12-18 15:00:00') & (min_df['tstp'] < '2012-12-18 15:30:00'),:].index\n",
    "min_df = min_df.drop(indexes)"
   ]
  },
  {
   "cell_type": "code",
   "execution_count": 70,
   "metadata": {},
   "outputs": [
    {
     "data": {
      "text/plain": [
       "<matplotlib.axes._subplots.AxesSubplot at 0x23302099550>"
      ]
     },
     "execution_count": 70,
     "metadata": {},
     "output_type": "execute_result"
    },
    {
     "data": {
      "image/png": "[encoded data removed]",
      "text/plain": [
       "<Figure size 432x288 with 1 Axes>"
      ]
     },
     "metadata": {
      "needs_background": "light"
     },
     "output_type": "display_data"
    }
   ],
   "source": [
    "min_df.loc[(min_df['tstp'] >= '2012-12-19 12:30:00') & (min_df['tstp'] <= '2012-12-19 13:00:00'),:].isna().sum(axis=1).plot()"
   ]
  },
  {
   "cell_type": "code",
   "execution_count": 71,
   "metadata": {},
   "outputs": [
    {
     "data": {
      "text/plain": [
       "18387    2012-12-19 12:30:00\n",
       "18388    2012-12-19 12:37:27\n",
       "18389    2012-12-19 13:00:00\n",
       "Name: tstp, dtype: object"
      ]
     },
     "execution_count": 71,
     "metadata": {},
     "output_type": "execute_result"
    }
   ],
   "source": [
    "min_df.loc[(min_df['tstp'] >= '2012-12-19 12:30:00') & (min_df['tstp'] <= '2012-12-19 13:00:00'),'tstp']"
   ]
  },
  {
   "cell_type": "code",
   "execution_count": 73,
   "metadata": {},
   "outputs": [],
   "source": [
    "indexes = min_df.loc[(min_df['tstp'] > '2012-12-19 12:30:00') & (min_df['tstp'] < '2012-12-19 13:00:00'),:].index\n",
    "min_df = min_df.drop(indexes)"
   ]
  },
  {
   "cell_type": "code",
   "execution_count": 80,
   "metadata": {},
   "outputs": [
    {
     "data": {
      "text/plain": [
       "<matplotlib.axes._subplots.AxesSubplot at 0x233032e85c0>"
      ]
     },
     "execution_count": 80,
     "metadata": {},
     "output_type": "execute_result"
    },
    {
     "data": {
      "image/png": "[encoded data removed]",
      "text/plain": [
       "<Figure size 432x288 with 1 Axes>"
      ]
     },
     "metadata": {
      "needs_background": "light"
     },
     "output_type": "display_data"
    }
   ],
   "source": [
    "min_df.loc[min_df['tstp'] >= '2012-05-01',:].isna().sum(axis=1).plot() # and deleting the first values"
   ]
  },
  {
   "cell_type": "code",
   "execution_count": 82,
   "metadata": {},
   "outputs": [],
   "source": [
    "min_df = min_df.loc[min_df['tstp'] >= '2012-05-01',:]"
   ]
  },
  {
   "cell_type": "code",
   "execution_count": 85,
   "metadata": {},
   "outputs": [
    {
     "data": {
      "text/plain": [
       "0"
      ]
     },
     "execution_count": 85,
     "metadata": {},
     "output_type": "execute_result"
    }
   ],
   "source": [
    "min_df.isna().sum(axis=1).sum() # Not NaNs!"
   ]
  },
  {
   "cell_type": "code",
   "execution_count": 84,
   "metadata": {},
   "outputs": [],
   "source": [
    "min_df.to_csv(os.path.join(folder, 'min_resume_clean.csv'))"
   ]
  },
  {
   "cell_type": "markdown",
   "metadata": {},
   "source": [
    "## So after deleting values between '2012-12-18 15:00:00' and '2012-12-18 15:30:00', and values between '2012-12-19 12:30:00' and '2012-12-19 13:00:00', and considering all over '2012-05-01' we are ready to go!"
   ]
  },
  {
   "cell_type": "markdown",
   "metadata": {},
   "source": [
    "Do the same with the others files"
   ]
  },
  {
   "cell_type": "code",
   "execution_count": 86,
   "metadata": {},
   "outputs": [
    {
     "name": "stdout",
     "output_type": "stream",
     "text": [
      "0\n",
      "0\n",
      "0\n"
     ]
    }
   ],
   "source": [
    "for file in ['sum_resume', 'max_resume', 'mean_resume']:\n",
    "    min_df = pd.read_csv(os.path.join(folder, '{}.csv'.format(file)))\n",
    "    indexes = min_df.loc[(min_df['tstp'] > '2012-12-18 15:00:00') & (min_df['tstp'] < '2012-12-18 15:30:00'),:].index\n",
    "    min_df = min_df.drop(indexes)\n",
    "    indexes = min_df.loc[(min_df['tstp'] > '2012-12-19 12:30:00') & (min_df['tstp'] < '2012-12-19 13:00:00'),:].index\n",
    "    min_df = min_df.drop(indexes)\n",
    "    min_df = min_df.loc[min_df['tstp'] >= '2012-05-01',:]\n",
    "    min_df.to_csv(os.path.join(folder, '{}_clean.csv'.format(file)))\n",
    "    print(min_df.isna().sum(axis=1).sum())"
   ]
  },
  {
   "cell_type": "markdown",
   "metadata": {},
   "source": [
    "# Now we can generate the acorns groups and acorn categories\n"
   ]
  },
  {
   "cell_type": "code",
   "execution_count": 53,
   "metadata": {},
   "outputs": [
    {
     "data": {
      "text/html": [
       "<div>\n",
       "<style scoped>\n",
       "    .dataframe tbody tr th:only-of-type {\n",
       "        vertical-align: middle;\n",
       "    }\n",
       "\n",
       "    .dataframe tbody tr th {\n",
       "        vertical-align: top;\n",
       "    }\n",
       "\n",
       "    .dataframe thead th {\n",
       "        text-align: right;\n",
       "    }\n",
       "</style>\n",
       "<table border=\"1\" class=\"dataframe\">\n",
       "  <thead>\n",
       "    <tr style=\"text-align: right;\">\n",
       "      <th></th>\n",
       "      <th>LCLid</th>\n",
       "      <th>stdorToU</th>\n",
       "      <th>Acorn</th>\n",
       "      <th>Acorn_grouped</th>\n",
       "      <th>file</th>\n",
       "    </tr>\n",
       "  </thead>\n",
       "  <tbody>\n",
       "    <tr>\n",
       "      <th>0</th>\n",
       "      <td>MAC005492</td>\n",
       "      <td>ToU</td>\n",
       "      <td>ACORN-</td>\n",
       "      <td>ACORN-</td>\n",
       "      <td>block_0</td>\n",
       "    </tr>\n",
       "    <tr>\n",
       "      <th>1</th>\n",
       "      <td>MAC001074</td>\n",
       "      <td>ToU</td>\n",
       "      <td>ACORN-</td>\n",
       "      <td>ACORN-</td>\n",
       "      <td>block_0</td>\n",
       "    </tr>\n",
       "    <tr>\n",
       "      <th>2</th>\n",
       "      <td>MAC000002</td>\n",
       "      <td>Std</td>\n",
       "      <td>ACORN-A</td>\n",
       "      <td>Affluent</td>\n",
       "      <td>block_0</td>\n",
       "    </tr>\n",
       "    <tr>\n",
       "      <th>3</th>\n",
       "      <td>MAC003613</td>\n",
       "      <td>Std</td>\n",
       "      <td>ACORN-A</td>\n",
       "      <td>Affluent</td>\n",
       "      <td>block_0</td>\n",
       "    </tr>\n",
       "    <tr>\n",
       "      <th>4</th>\n",
       "      <td>MAC003597</td>\n",
       "      <td>Std</td>\n",
       "      <td>ACORN-A</td>\n",
       "      <td>Affluent</td>\n",
       "      <td>block_0</td>\n",
       "    </tr>\n",
       "  </tbody>\n",
       "</table>\n",
       "</div>"
      ],
      "text/plain": [
       "       LCLid stdorToU    Acorn Acorn_grouped     file\n",
       "0  MAC005492      ToU   ACORN-        ACORN-  block_0\n",
       "1  MAC001074      ToU   ACORN-        ACORN-  block_0\n",
       "2  MAC000002      Std  ACORN-A      Affluent  block_0\n",
       "3  MAC003613      Std  ACORN-A      Affluent  block_0\n",
       "4  MAC003597      Std  ACORN-A      Affluent  block_0"
      ]
     },
     "execution_count": 53,
     "metadata": {},
     "output_type": "execute_result"
    }
   ],
   "source": [
    "block_group = pd.read_csv(os.path.join('informations_households.csv'))\n",
    "block_group.head()"
   ]
  },
  {
   "cell_type": "code",
   "execution_count": 54,
   "metadata": {},
   "outputs": [
    {
     "data": {
      "text/plain": [
       "{'ACORN-': ['block_0'],\n",
       " 'Affluent': ['block_0',\n",
       "  'block_1',\n",
       "  'block_2',\n",
       "  'block_3',\n",
       "  'block_4',\n",
       "  'block_5',\n",
       "  'block_6',\n",
       "  'block_7',\n",
       "  'block_8',\n",
       "  'block_9',\n",
       "  'block_10',\n",
       "  'block_11',\n",
       "  'block_12',\n",
       "  'block_13',\n",
       "  'block_14',\n",
       "  'block_15',\n",
       "  'block_16',\n",
       "  'block_17',\n",
       "  'block_18',\n",
       "  'block_19',\n",
       "  'block_20',\n",
       "  'block_21',\n",
       "  'block_22',\n",
       "  'block_23',\n",
       "  'block_24',\n",
       "  'block_25',\n",
       "  'block_26',\n",
       "  'block_27',\n",
       "  'block_28',\n",
       "  'block_29',\n",
       "  'block_30',\n",
       "  'block_31',\n",
       "  'block_32',\n",
       "  'block_33',\n",
       "  'block_34',\n",
       "  'block_35',\n",
       "  'block_36',\n",
       "  'block_37',\n",
       "  'block_38',\n",
       "  'block_39',\n",
       "  'block_40',\n",
       "  'block_41',\n",
       "  'block_42',\n",
       "  'block_43'],\n",
       " 'Comfortable': ['block_43',\n",
       "  'block_44',\n",
       "  'block_45',\n",
       "  'block_46',\n",
       "  'block_47',\n",
       "  'block_48',\n",
       "  'block_49',\n",
       "  'block_50',\n",
       "  'block_51',\n",
       "  'block_52',\n",
       "  'block_53',\n",
       "  'block_54',\n",
       "  'block_55',\n",
       "  'block_56',\n",
       "  'block_57',\n",
       "  'block_58',\n",
       "  'block_59',\n",
       "  'block_60',\n",
       "  'block_61',\n",
       "  'block_62',\n",
       "  'block_63',\n",
       "  'block_64',\n",
       "  'block_65',\n",
       "  'block_66',\n",
       "  'block_67',\n",
       "  'block_68',\n",
       "  'block_69',\n",
       "  'block_70',\n",
       "  'block_71',\n",
       "  'block_72',\n",
       "  'block_73',\n",
       "  'block_74'],\n",
       " 'Adversity': ['block_74',\n",
       "  'block_75',\n",
       "  'block_76',\n",
       "  'block_77',\n",
       "  'block_78',\n",
       "  'block_79',\n",
       "  'block_80',\n",
       "  'block_81',\n",
       "  'block_82',\n",
       "  'block_83',\n",
       "  'block_84',\n",
       "  'block_85',\n",
       "  'block_86',\n",
       "  'block_87',\n",
       "  'block_88',\n",
       "  'block_89',\n",
       "  'block_90',\n",
       "  'block_91',\n",
       "  'block_92',\n",
       "  'block_93',\n",
       "  'block_94',\n",
       "  'block_95',\n",
       "  'block_96',\n",
       "  'block_97',\n",
       "  'block_98',\n",
       "  'block_99',\n",
       "  'block_100',\n",
       "  'block_101',\n",
       "  'block_102',\n",
       "  'block_103',\n",
       "  'block_104',\n",
       "  'block_105',\n",
       "  'block_106',\n",
       "  'block_107',\n",
       "  'block_108',\n",
       "  'block_109',\n",
       "  'block_110'],\n",
       " 'ACORN-U': ['block_110', 'block_111']}"
      ]
     },
     "execution_count": 54,
     "metadata": {},
     "output_type": "execute_result"
    }
   ],
   "source": [
    "flists = {}\n",
    "for g in block_group['Acorn_grouped'].unique():\n",
    "    flists[g] = list(block_group.loc[block_group['Acorn_grouped'] == g]['file'].unique())\n",
    "flists"
   ]
  },
  {
   "cell_type": "code",
   "execution_count": 55,
   "metadata": {},
   "outputs": [
    {
     "data": {
      "text/plain": [
       "{'ACORN-': ['block_0'],\n",
       " 'ACORN-A': ['block_0', 'block_1', 'block_2', 'block_3'],\n",
       " 'ACORN-B': ['block_3'],\n",
       " 'ACORN-C': ['block_3', 'block_4', 'block_5', 'block_6'],\n",
       " 'ACORN-D': ['block_6',\n",
       "  'block_7',\n",
       "  'block_8',\n",
       "  'block_9',\n",
       "  'block_10',\n",
       "  'block_11',\n",
       "  'block_12'],\n",
       " 'ACORN-E': ['block_12',\n",
       "  'block_13',\n",
       "  'block_14',\n",
       "  'block_15',\n",
       "  'block_16',\n",
       "  'block_17',\n",
       "  'block_18',\n",
       "  'block_19',\n",
       "  'block_20',\n",
       "  'block_21',\n",
       "  'block_22',\n",
       "  'block_23',\n",
       "  'block_24',\n",
       "  'block_25',\n",
       "  'block_26',\n",
       "  'block_27',\n",
       "  'block_28',\n",
       "  'block_29',\n",
       "  'block_30',\n",
       "  'block_31',\n",
       "  'block_32',\n",
       "  'block_33',\n",
       "  'block_34',\n",
       "  'block_35',\n",
       "  'block_36',\n",
       "  'block_37',\n",
       "  'block_38',\n",
       "  'block_39',\n",
       "  'block_40',\n",
       "  'block_41',\n",
       "  'block_42',\n",
       "  'block_43'],\n",
       " 'ACORN-F': ['block_43',\n",
       "  'block_44',\n",
       "  'block_45',\n",
       "  'block_46',\n",
       "  'block_47',\n",
       "  'block_48',\n",
       "  'block_49',\n",
       "  'block_50',\n",
       "  'block_51',\n",
       "  'block_52',\n",
       "  'block_53',\n",
       "  'block_54',\n",
       "  'block_55',\n",
       "  'block_56',\n",
       "  'block_57'],\n",
       " 'ACORN-G': ['block_57', 'block_58', 'block_59', 'block_60', 'block_61'],\n",
       " 'ACORN-H': ['block_61',\n",
       "  'block_62',\n",
       "  'block_63',\n",
       "  'block_64',\n",
       "  'block_65',\n",
       "  'block_66',\n",
       "  'block_67',\n",
       "  'block_68',\n",
       "  'block_69',\n",
       "  'block_70'],\n",
       " 'ACORN-I': ['block_70', 'block_71'],\n",
       " 'ACORN-J': ['block_71', 'block_72', 'block_73', 'block_74'],\n",
       " 'ACORN-K': ['block_74', 'block_75', 'block_76', 'block_77'],\n",
       " 'ACORN-L': ['block_77',\n",
       "  'block_78',\n",
       "  'block_79',\n",
       "  'block_80',\n",
       "  'block_81',\n",
       "  'block_82',\n",
       "  'block_83',\n",
       "  'block_84'],\n",
       " 'ACORN-M': ['block_84', 'block_85', 'block_86'],\n",
       " 'ACORN-N': ['block_86', 'block_87', 'block_88', 'block_89'],\n",
       " 'ACORN-O': ['block_89', 'block_90', 'block_91'],\n",
       " 'ACORN-P': ['block_91', 'block_92', 'block_93'],\n",
       " 'ACORN-Q': ['block_93',\n",
       "  'block_94',\n",
       "  'block_95',\n",
       "  'block_96',\n",
       "  'block_97',\n",
       "  'block_98',\n",
       "  'block_99',\n",
       "  'block_100',\n",
       "  'block_101',\n",
       "  'block_102',\n",
       "  'block_103',\n",
       "  'block_104',\n",
       "  'block_105',\n",
       "  'block_106',\n",
       "  'block_107',\n",
       "  'block_108',\n",
       "  'block_109',\n",
       "  'block_110'],\n",
       " 'ACORN-U': ['block_110', 'block_111']}"
      ]
     },
     "execution_count": 55,
     "metadata": {},
     "output_type": "execute_result"
    }
   ],
   "source": [
    "grupos = {}\n",
    "for g in block_group['Acorn'].unique():\n",
    "    grupos[g] = list(block_group.loc[block_group['Acorn'] == g]['file'].unique())\n",
    "grupos"
   ]
  },
  {
   "cell_type": "code",
   "execution_count": 56,
   "metadata": {},
   "outputs": [],
   "source": [
    "df_sum = pd.read_csv(os.path.join(folder, 'sum_resume_clean.csv'), index_col=0)\n",
    "df_max = pd.read_csv(os.path.join(folder, 'max_resume_clean.csv'), index_col=0)\n",
    "df_min = pd.read_csv(os.path.join(folder, 'min_resume_clean.csv'), index_col=0)\n",
    "df_mean = pd.read_csv(os.path.join(folder, 'mean_resume_clean.csv'), index_col=0)"
   ]
  },
  {
   "cell_type": "code",
   "execution_count": 57,
   "metadata": {},
   "outputs": [],
   "source": [
    "g_sum = pd.DataFrame([])\n",
    "g_mean = pd.DataFrame([])\n",
    "g_min = pd.DataFrame([])\n",
    "g_max = pd.DataFrame([])\n",
    "g_sum['tstp'] = df_sum['tstp']\n",
    "g_mean['tstp'] = df_mean['tstp']\n",
    "g_min['tstp'] = df_min['tstp']\n",
    "g_max['tstp'] = df_max['tstp']"
   ]
  },
  {
   "cell_type": "code",
   "execution_count": 58,
   "metadata": {},
   "outputs": [],
   "source": [
    "ag_sum = pd.DataFrame([])\n",
    "ag_mean = pd.DataFrame([])\n",
    "ag_min = pd.DataFrame([])\n",
    "ag_max = pd.DataFrame([])\n",
    "ag_sum['tstp'] = df_sum['tstp']\n",
    "ag_mean['tstp'] = df_mean['tstp']\n",
    "ag_min['tstp'] = df_min['tstp']\n",
    "ag_max['tstp'] = df_max['tstp']"
   ]
  },
  {
   "cell_type": "code",
   "execution_count": 59,
   "metadata": {},
   "outputs": [
    {
     "data": {
      "text/html": [
       "<div>\n",
       "<style scoped>\n",
       "    .dataframe tbody tr th:only-of-type {\n",
       "        vertical-align: middle;\n",
       "    }\n",
       "\n",
       "    .dataframe tbody tr th {\n",
       "        vertical-align: top;\n",
       "    }\n",
       "\n",
       "    .dataframe thead th {\n",
       "        text-align: right;\n",
       "    }\n",
       "</style>\n",
       "<table border=\"1\" class=\"dataframe\">\n",
       "  <thead>\n",
       "    <tr style=\"text-align: right;\">\n",
       "      <th></th>\n",
       "      <th>tstp</th>\n",
       "    </tr>\n",
       "  </thead>\n",
       "  <tbody>\n",
       "    <tr>\n",
       "      <th>39287</th>\n",
       "      <td>2014-02-27 22:00:00</td>\n",
       "    </tr>\n",
       "    <tr>\n",
       "      <th>39288</th>\n",
       "      <td>2014-02-27 22:30:00</td>\n",
       "    </tr>\n",
       "    <tr>\n",
       "      <th>39289</th>\n",
       "      <td>2014-02-27 23:00:00</td>\n",
       "    </tr>\n",
       "    <tr>\n",
       "      <th>39290</th>\n",
       "      <td>2014-02-27 23:30:00</td>\n",
       "    </tr>\n",
       "    <tr>\n",
       "      <th>39291</th>\n",
       "      <td>2014-02-28 00:00:00</td>\n",
       "    </tr>\n",
       "  </tbody>\n",
       "</table>\n",
       "</div>"
      ],
      "text/plain": [
       "                      tstp\n",
       "39287  2014-02-27 22:00:00\n",
       "39288  2014-02-27 22:30:00\n",
       "39289  2014-02-27 23:00:00\n",
       "39290  2014-02-27 23:30:00\n",
       "39291  2014-02-28 00:00:00"
      ]
     },
     "execution_count": 59,
     "metadata": {},
     "output_type": "execute_result"
    }
   ],
   "source": [
    "g_sum.tail()"
   ]
  },
  {
   "cell_type": "code",
   "execution_count": 60,
   "metadata": {},
   "outputs": [
    {
     "data": {
      "text/html": [
       "<div>\n",
       "<style scoped>\n",
       "    .dataframe tbody tr th:only-of-type {\n",
       "        vertical-align: middle;\n",
       "    }\n",
       "\n",
       "    .dataframe tbody tr th {\n",
       "        vertical-align: top;\n",
       "    }\n",
       "\n",
       "    .dataframe thead th {\n",
       "        text-align: right;\n",
       "    }\n",
       "</style>\n",
       "<table border=\"1\" class=\"dataframe\">\n",
       "  <thead>\n",
       "    <tr style=\"text-align: right;\">\n",
       "      <th></th>\n",
       "      <th>tstp</th>\n",
       "    </tr>\n",
       "  </thead>\n",
       "  <tbody>\n",
       "    <tr>\n",
       "      <th>39287</th>\n",
       "      <td>2014-02-27 22:00:00</td>\n",
       "    </tr>\n",
       "    <tr>\n",
       "      <th>39288</th>\n",
       "      <td>2014-02-27 22:30:00</td>\n",
       "    </tr>\n",
       "    <tr>\n",
       "      <th>39289</th>\n",
       "      <td>2014-02-27 23:00:00</td>\n",
       "    </tr>\n",
       "    <tr>\n",
       "      <th>39290</th>\n",
       "      <td>2014-02-27 23:30:00</td>\n",
       "    </tr>\n",
       "    <tr>\n",
       "      <th>39291</th>\n",
       "      <td>2014-02-28 00:00:00</td>\n",
       "    </tr>\n",
       "  </tbody>\n",
       "</table>\n",
       "</div>"
      ],
      "text/plain": [
       "                      tstp\n",
       "39287  2014-02-27 22:00:00\n",
       "39288  2014-02-27 22:30:00\n",
       "39289  2014-02-27 23:00:00\n",
       "39290  2014-02-27 23:30:00\n",
       "39291  2014-02-28 00:00:00"
      ]
     },
     "execution_count": 60,
     "metadata": {},
     "output_type": "execute_result"
    }
   ],
   "source": [
    "ag_sum.tail()"
   ]
  },
  {
   "cell_type": "code",
   "execution_count": 61,
   "metadata": {},
   "outputs": [],
   "source": [
    "for g in flists.keys():    \n",
    "    g_sum[g] = df_sum.loc[:,flists[g]].sum(axis=1)\n",
    "    g_mean[g] = df_mean.loc[:,flists[g]].mean(axis=1)\n",
    "    g_min[g] = df_min.loc[:,flists[g]].mean(axis=1)\n",
    "    g_max[g] = df_max.loc[:,flists[g]].mean(axis=1)"
   ]
  },
  {
   "cell_type": "code",
   "execution_count": 62,
   "metadata": {},
   "outputs": [],
   "source": [
    "g_sum.to_csv(os.path.join(folder, 'gsum_resume.csv'))\n",
    "g_max.to_csv(os.path.join(folder, 'gmax_resume.csv'))\n",
    "g_min.to_csv(os.path.join(folder, 'gmin_resume.csv'))\n",
    "g_mean.to_csv(os.path.join(folder, 'gmean_resume.csv'))"
   ]
  },
  {
   "cell_type": "code",
   "execution_count": 63,
   "metadata": {},
   "outputs": [],
   "source": [
    "for ag in grupos.keys():    \n",
    "    ag_sum[ag] = df_sum.loc[:,grupos[ag]].sum(axis=1)\n",
    "    ag_mean[ag] = df_mean.loc[:,grupos[ag]].mean(axis=1)\n",
    "    ag_min[ag] = df_min.loc[:,grupos[ag]].mean(axis=1)\n",
    "    ag_max[ag] = df_max.loc[:,grupos[ag]].mean(axis=1)"
   ]
  },
  {
   "cell_type": "code",
   "execution_count": 64,
   "metadata": {},
   "outputs": [],
   "source": [
    "ag_sum.to_csv(os.path.join(folder, 'agsum_resume.csv'))\n",
    "ag_max.to_csv(os.path.join(folder, 'agmax_resume.csv'))\n",
    "ag_min.to_csv(os.path.join(folder, 'agmin_resume.csv'))\n",
    "ag_mean.to_csv(os.path.join(folder, 'agmean_resume.csv'))"
   ]
  },
  {
   "cell_type": "code",
   "execution_count": null,
   "metadata": {},
   "outputs": [],
   "source": []
  }
 ],
 "metadata": {
  "kernelspec": {
   "display_name": "Python 3",
   "language": "python",
   "name": "python3"
  },
  "language_info": {
   "codemirror_mode": {
    "name": "ipython",
    "version": 3
   },
   "file_extension": ".py",
   "mimetype": "text/x-python",
   "name": "python",
   "nbconvert_exporter": "python",
   "pygments_lexer": "ipython3",
   "version": "3.7.3"
  }
 },
 "nbformat": 4,
 "nbformat_minor": 2
}
