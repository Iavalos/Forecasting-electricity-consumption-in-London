{
 "cells": [
  {
   "cell_type": "code",
   "execution_count": 27,
   "metadata": {},
   "outputs": [],
   "source": [
    "import pandas as pd\n",
    "import os\n",
    "import numpy as np"
   ]
  },
  {
   "cell_type": "code",
   "execution_count": 5,
   "metadata": {},
   "outputs": [],
   "source": [
    "# obtain sum, mean, max and min for every csv block"
   ]
  },
  {
   "cell_type": "code",
   "execution_count": 45,
   "metadata": {},
   "outputs": [
    {
     "data": {
      "text/html": [
       "<div>\n",
       "<style scoped>\n",
       "    .dataframe tbody tr th:only-of-type {\n",
       "        vertical-align: middle;\n",
       "    }\n",
       "\n",
       "    .dataframe tbody tr th {\n",
       "        vertical-align: top;\n",
       "    }\n",
       "\n",
       "    .dataframe thead th {\n",
       "        text-align: right;\n",
       "    }\n",
       "</style>\n",
       "<table border=\"1\" class=\"dataframe\">\n",
       "  <thead>\n",
       "    <tr style=\"text-align: right;\">\n",
       "      <th></th>\n",
       "      <th>LCLid</th>\n",
       "      <th>tstp</th>\n",
       "      <th>energy(kWh/hh)</th>\n",
       "    </tr>\n",
       "  </thead>\n",
       "  <tbody>\n",
       "    <tr>\n",
       "      <th>0</th>\n",
       "      <td>MAC000002</td>\n",
       "      <td>2012-10-12 00:30:00</td>\n",
       "      <td>0.0</td>\n",
       "    </tr>\n",
       "    <tr>\n",
       "      <th>1</th>\n",
       "      <td>MAC000002</td>\n",
       "      <td>2012-10-12 01:00:00</td>\n",
       "      <td>0.0</td>\n",
       "    </tr>\n",
       "    <tr>\n",
       "      <th>2</th>\n",
       "      <td>MAC000002</td>\n",
       "      <td>2012-10-12 01:30:00</td>\n",
       "      <td>0.0</td>\n",
       "    </tr>\n",
       "    <tr>\n",
       "      <th>3</th>\n",
       "      <td>MAC000002</td>\n",
       "      <td>2012-10-12 02:00:00</td>\n",
       "      <td>0.0</td>\n",
       "    </tr>\n",
       "    <tr>\n",
       "      <th>4</th>\n",
       "      <td>MAC000002</td>\n",
       "      <td>2012-10-12 02:30:00</td>\n",
       "      <td>0.0</td>\n",
       "    </tr>\n",
       "  </tbody>\n",
       "</table>\n",
       "</div>"
      ],
      "text/plain": [
       "       LCLid                tstp  energy(kWh/hh)\n",
       "0  MAC000002 2012-10-12 00:30:00             0.0\n",
       "1  MAC000002 2012-10-12 01:00:00             0.0\n",
       "2  MAC000002 2012-10-12 01:30:00             0.0\n",
       "3  MAC000002 2012-10-12 02:00:00             0.0\n",
       "4  MAC000002 2012-10-12 02:30:00             0.0"
      ]
     },
     "execution_count": 45,
     "metadata": {},
     "output_type": "execute_result"
    }
   ],
   "source": [
    "folder = os.path.join('halfhourly_dataset')\n",
    "df = pd.read_csv(os.path.join(folder, 'block_0.csv'))\n",
    "df['tstp'] = pd.to_datetime(df['tstp'])\n",
    "df = df.replace('Null', np.nan)\n",
    "df['energy(kWh/hh)'] = pd.to_numeric(df['energy(kWh/hh)'])\n",
    "df['energy(kWh/hh)'] = (df['energy(kWh/hh)'].fillna(method='ffill') + df['energy(kWh/hh)'].fillna(method='bfill'))/2\n",
    "df.head()"
   ]
  },
  {
   "cell_type": "code",
   "execution_count": 46,
   "metadata": {},
   "outputs": [
    {
     "data": {
      "text/plain": [
       "LCLid                       MAC000002\n",
       "tstp              2012-12-19 12:37:27\n",
       "energy(kWh/hh)                   0.19\n",
       "Name: 3238, dtype: object"
      ]
     },
     "execution_count": 46,
     "metadata": {},
     "output_type": "execute_result"
    }
   ],
   "source": [
    "df.iloc[3238]"
   ]
  },
  {
   "cell_type": "code",
   "execution_count": 50,
   "metadata": {},
   "outputs": [
    {
     "data": {
      "text/html": [
       "<div>\n",
       "<style scoped>\n",
       "    .dataframe tbody tr th:only-of-type {\n",
       "        vertical-align: middle;\n",
       "    }\n",
       "\n",
       "    .dataframe tbody tr th {\n",
       "        vertical-align: top;\n",
       "    }\n",
       "\n",
       "    .dataframe thead th {\n",
       "        text-align: right;\n",
       "    }\n",
       "</style>\n",
       "<table border=\"1\" class=\"dataframe\">\n",
       "  <thead>\n",
       "    <tr style=\"text-align: right;\">\n",
       "      <th></th>\n",
       "      <th>mean</th>\n",
       "      <th>min</th>\n",
       "      <th>max</th>\n",
       "      <th>sum</th>\n",
       "    </tr>\n",
       "    <tr>\n",
       "      <th>tstp</th>\n",
       "      <th></th>\n",
       "      <th></th>\n",
       "      <th></th>\n",
       "      <th></th>\n",
       "    </tr>\n",
       "  </thead>\n",
       "  <tbody>\n",
       "    <tr>\n",
       "      <th>2014-02-27 22:00:00</th>\n",
       "      <td>0.678429</td>\n",
       "      <td>0.045</td>\n",
       "      <td>3.060</td>\n",
       "      <td>28.494</td>\n",
       "    </tr>\n",
       "    <tr>\n",
       "      <th>2014-02-27 22:30:00</th>\n",
       "      <td>0.652071</td>\n",
       "      <td>0.044</td>\n",
       "      <td>2.643</td>\n",
       "      <td>27.387</td>\n",
       "    </tr>\n",
       "    <tr>\n",
       "      <th>2014-02-27 23:00:00</th>\n",
       "      <td>0.545190</td>\n",
       "      <td>0.064</td>\n",
       "      <td>2.482</td>\n",
       "      <td>22.898</td>\n",
       "    </tr>\n",
       "    <tr>\n",
       "      <th>2014-02-27 23:30:00</th>\n",
       "      <td>0.442571</td>\n",
       "      <td>0.021</td>\n",
       "      <td>2.110</td>\n",
       "      <td>18.588</td>\n",
       "    </tr>\n",
       "    <tr>\n",
       "      <th>2014-02-28 00:00:00</th>\n",
       "      <td>0.328810</td>\n",
       "      <td>0.039</td>\n",
       "      <td>2.149</td>\n",
       "      <td>13.810</td>\n",
       "    </tr>\n",
       "  </tbody>\n",
       "</table>\n",
       "</div>"
      ],
      "text/plain": [
       "                         mean    min    max     sum\n",
       "tstp                                               \n",
       "2014-02-27 22:00:00  0.678429  0.045  3.060  28.494\n",
       "2014-02-27 22:30:00  0.652071  0.044  2.643  27.387\n",
       "2014-02-27 23:00:00  0.545190  0.064  2.482  22.898\n",
       "2014-02-27 23:30:00  0.442571  0.021  2.110  18.588\n",
       "2014-02-28 00:00:00  0.328810  0.039  2.149  13.810"
      ]
     },
     "execution_count": 50,
     "metadata": {},
     "output_type": "execute_result"
    }
   ],
   "source": [
    "df_summ = df.groupby('tstp')['energy(kWh/hh)'].agg(['mean', 'min', 'max', 'sum'])"
   ]
  },
  {
   "cell_type": "code",
   "execution_count": 57,
   "metadata": {},
   "outputs": [
    {
     "data": {
      "text/plain": [
       "0"
      ]
     },
     "execution_count": 57,
     "metadata": {},
     "output_type": "execute_result"
    }
   ],
   "source": [
    "int('block_0.csv'.split('.')[0].split('_')[1])"
   ]
  },
  {
   "cell_type": "code",
   "execution_count": 65,
   "metadata": {},
   "outputs": [
    {
     "name": "stdout",
     "output_type": "stream",
     "text": [
      "block_0.csv\n",
      "block_1.csv\n",
      "block_10.csv\n",
      "block_100.csv\n",
      "block_101.csv\n",
      "block_102.csv\n",
      "block_103.csv\n",
      "block_104.csv\n",
      "block_105.csv\n",
      "block_106.csv\n",
      "block_107.csv\n",
      "block_108.csv\n"
     ]
    },
    {
     "name": "stderr",
     "output_type": "stream",
     "text": [
      "D:\\Anaconda3\\lib\\site-packages\\IPython\\core\\interactiveshell.py:3057: DtypeWarning: Columns (2) have mixed types. Specify dtype option on import or set low_memory=False.\n",
      "  interactivity=interactivity, compiler=compiler, result=result)\n"
     ]
    },
    {
     "name": "stdout",
     "output_type": "stream",
     "text": [
      "block_109.csv\n",
      "block_11.csv\n",
      "block_110.csv\n",
      "block_111.csv\n",
      "block_12.csv\n",
      "block_13.csv\n",
      "block_14.csv\n",
      "block_15.csv\n",
      "block_16.csv\n",
      "block_17.csv\n",
      "block_18.csv\n",
      "block_19.csv\n",
      "block_2.csv\n",
      "block_20.csv\n",
      "block_21.csv\n",
      "block_22.csv\n",
      "block_23.csv\n",
      "block_24.csv\n",
      "block_25.csv\n",
      "block_26.csv\n",
      "block_27.csv\n",
      "block_28.csv\n",
      "block_29.csv\n",
      "block_3.csv\n",
      "block_30.csv\n",
      "block_31.csv\n",
      "block_32.csv\n",
      "block_33.csv\n",
      "block_34.csv\n",
      "block_35.csv\n",
      "block_36.csv\n",
      "block_37.csv\n",
      "block_38.csv\n",
      "block_39.csv\n",
      "block_4.csv\n",
      "block_40.csv\n",
      "block_41.csv\n",
      "block_42.csv\n",
      "block_43.csv\n",
      "block_44.csv\n",
      "block_45.csv\n",
      "block_46.csv\n",
      "block_47.csv\n",
      "block_48.csv\n",
      "block_49.csv\n",
      "block_5.csv\n",
      "block_50.csv\n",
      "block_51.csv\n",
      "block_52.csv\n",
      "block_53.csv\n",
      "block_54.csv\n",
      "block_55.csv\n",
      "block_56.csv\n",
      "block_57.csv\n",
      "block_58.csv\n",
      "block_59.csv\n",
      "block_6.csv\n",
      "block_60.csv\n",
      "block_61.csv\n",
      "block_62.csv\n",
      "block_63.csv\n",
      "block_64.csv\n",
      "block_65.csv\n",
      "block_66.csv\n",
      "block_67.csv\n",
      "block_68.csv\n",
      "block_69.csv\n",
      "block_7.csv\n",
      "block_70.csv\n",
      "block_71.csv\n",
      "block_72.csv\n",
      "block_73.csv\n",
      "block_74.csv\n",
      "block_75.csv\n",
      "block_76.csv\n",
      "block_77.csv\n",
      "block_78.csv\n",
      "block_79.csv\n",
      "block_8.csv\n",
      "block_80.csv\n",
      "block_81.csv\n",
      "block_82.csv\n",
      "block_83.csv\n",
      "block_84.csv\n",
      "block_85.csv\n",
      "block_86.csv\n",
      "block_87.csv\n",
      "block_88.csv\n",
      "block_89.csv\n",
      "block_9.csv\n",
      "block_90.csv\n",
      "block_91.csv\n",
      "block_92.csv\n",
      "block_93.csv\n",
      "block_94.csv\n",
      "block_95.csv\n",
      "block_96.csv\n",
      "block_97.csv\n",
      "block_98.csv\n",
      "block_99.csv\n"
     ]
    }
   ],
   "source": [
    "df_sum = pd.DataFrame([])\n",
    "df_max = pd.DataFrame([])\n",
    "df_mean = pd.DataFrame([])\n",
    "df_min = pd.DataFrame([])\n",
    "for block_file in os.listdir(folder):\n",
    "    print(block_file)\n",
    "    dfb = pd.read_csv(os.path.join(folder, block_file))\n",
    "    dfb[\"tstp\"] = pd.to_datetime(dfb[\"tstp\"])\n",
    "    dfb['energy(kWh/hh)'] = dfb['energy(kWh/hh)'].replace('Null', np.nan)\n",
    "    dfb['energy(kWh/hh)'] = pd.to_numeric(dfb['energy(kWh/hh)'])\n",
    "    dfb['energy(kWh/hh)'] = (dfb['energy(kWh/hh)'].fillna(method='ffill') + dfb['energy(kWh/hh)'].fillna(method='bfill'))/2\n",
    "    \n",
    "    col_block = block_file.split('.')[0]\n",
    "    df_sum[col_block] = dfb.groupby(\"tstp\")['energy(kWh/hh)'].agg('sum')\n",
    "    df_max[col_block] = dfb.groupby(\"tstp\")['energy(kWh/hh)'].agg('max')\n",
    "    df_mean[col_block] = dfb.groupby(\"tstp\")['energy(kWh/hh)'].agg('mean')\n",
    "    df_min[col_block] = dfb.groupby(\"tstp\")['energy(kWh/hh)'].agg('min')"
   ]
  },
  {
   "cell_type": "code",
   "execution_count": 66,
   "metadata": {},
   "outputs": [],
   "source": [
    "df_sum.to_csv(os.path.join(folder, 'sum_resume.csv'))\n",
    "df_max.to_csv(os.path.join(folder, 'max_resume.csv'))\n",
    "df_min.to_csv(os.path.join(folder, 'min_resume.csv'))\n",
    "df_mean.to_csv(os.path.join(folder, 'mean_resume.csv'))"
   ]
  }
 ],
 "metadata": {
  "kernelspec": {
   "display_name": "Python 3",
   "language": "python",
   "name": "python3"
  },
  "language_info": {
   "codemirror_mode": {
    "name": "ipython",
    "version": 3
   },
   "file_extension": ".py",
   "mimetype": "text/x-python",
   "name": "python",
   "nbconvert_exporter": "python",
   "pygments_lexer": "ipython3",
   "version": "3.7.3"
  }
 },
 "nbformat": 4,
 "nbformat_minor": 2
}
